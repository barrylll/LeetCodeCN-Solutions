{
 "nbformat": 4,
 "nbformat_minor": 2,
 "metadata": {
  "language_info": {
   "name": "python",
   "codemirror_mode": {
    "name": "ipython",
    "version": 3
   },
   "version": "3.7.4"
  },
  "orig_nbformat": 2,
  "file_extension": ".py",
  "mimetype": "text/x-python",
  "name": "python",
  "npconvert_exporter": "python",
  "pygments_lexer": "ipython3",
  "version": 3
 },
 "cells": [
  {
   "cell_type": "markdown",
   "metadata": {},
   "outputs": [],
   "source": [
    "# 56. 合并区间\n",
    "\n",
    "## 题意\n",
    "\n",
    "给出一个区间的集合，请合并所有重叠的区间。\n",
    "\n",
    "示例 1:\n",
    "\n",
    "```\n",
    "输入: [[1,3],[2,6],[8,10],[15,18]]\n",
    "输出: [[1,6],[8,10],[15,18]]\n",
    "解释: 区间 [1,3] 和 [2,6] 重叠, 将它们合并为 [1,6].\n",
    "```\n",
    "\n",
    "示例 2:\n",
    "\n",
    "```\n",
    "输入: [[1,4],[4,5]]\n",
    "输出: [[1,5]]\n",
    "解释: 区间 [1,4] 和 [4,5] 可被视为重叠区间。\n",
    "```\n",
    "\n",
    "## 题解\n",
    "\n",
    "另开一个区间集合 `res`，如果输入中的集合和 `res` 中的集合重合，合并，否则 `append`。\n",
    "\n",
    "## 标程"
   ]
  },
  {
   "cell_type": "code",
   "execution_count": 1,
   "metadata": {},
   "outputs": [],
   "source": [
    "from typing import List\n",
    "\n",
    "class Solution(object):\n",
    "    def merge(self, intervals: List[List[int]]) -> List[List[int]]:\n",
    "        intervals.sort()\n",
    "        res = []\n",
    "        for a in intervals:\n",
    "            flag = False\n",
    "            for i, b in enumerate(res):\n",
    "                if a[0] <= b[1]:        # is_overlapped: sort make sure b[0] < a[0]\n",
    "                    res[i] = [min(a[0], b[0]), max(a[1], b[1])]\n",
    "                    flag = True\n",
    "            if flag is False:\n",
    "                res.append(a)\n",
    "        return res"
   ]
  },
  {
   "cell_type": "code",
   "execution_count": 2,
   "metadata": {},
   "outputs": [
    {
     "data": {
      "text/plain": "[[1, 6], [8, 10], [15, 18]]"
     },
     "execution_count": 2,
     "metadata": {},
     "output_type": "execute_result"
    }
   ],
   "source": [
    "Solution().merge([[1,3],[2,6],[8,10],[15,18]])"
   ]
  }
 ]
}