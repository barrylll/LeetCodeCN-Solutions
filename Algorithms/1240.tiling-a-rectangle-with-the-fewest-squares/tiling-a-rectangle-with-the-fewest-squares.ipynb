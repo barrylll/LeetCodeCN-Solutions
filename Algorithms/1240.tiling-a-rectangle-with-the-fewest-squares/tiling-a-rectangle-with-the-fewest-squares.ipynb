{
 "nbformat": 4,
 "nbformat_minor": 2,
 "metadata": {
  "language_info": {
   "name": "python",
   "codemirror_mode": {
    "name": "ipython",
    "version": 3
   },
   "version": "3.7.4"
  },
  "orig_nbformat": 2,
  "file_extension": ".py",
  "mimetype": "text/x-python",
  "name": "python",
  "npconvert_exporter": "python",
  "pygments_lexer": "ipython3",
  "version": 3
 },
 "cells": [
  {
   "cell_type": "markdown",
   "metadata": {},
   "outputs": [],
   "source": [
    "# 1240. Tiling a Rectangle with the Fewest Squares"
   ]
  },
  {
   "cell_type": "markdown",
   "metadata": {},
   "outputs": [],
   "source": [
    "## 题目描述\n",
    "\n",
    "Given a rectangle of size n x m, find the minimum number of integer-sided squares that tile the rectangle.\n",
    "\n",
    "**Example 1:**\n",
    "\n",
    "![](https://assets.leetcode.com/uploads/2019/10/17/sample_11_1592.png)\n",
    "\n",
    "```\n",
    "Input: n = 2, m = 3\n",
    "Output: 3\n",
    "Explanation: 3 squares are necessary to cover the rectangle.\n",
    "2 (squares of 1x1)\n",
    "1 (square of 2x2)\n",
    "```"
   ]
  },
  {
   "cell_type": "markdown",
   "metadata": {},
   "outputs": [],
   "source": [
    "## 题解\n",
    "\n",
    "这是个 NPC 问题，多项式内没有解。\n",
    "\n",
    "搜就完事了。\n",
    "\n",
    "但是我懒，打表了，来自 OEIS ：[A219158](https://oeis.org/A219158)"
   ]
  },
  {
   "cell_type": "code",
   "execution_count": 1,
   "metadata": {},
   "outputs": [],
   "source": [
    "class Solution(object):\n",
    "    def tilingRectangle(self, n: int, m: int) -> int:\n",
    "        if m > n:\n",
    "            return self.tilingRectangle(m, n)\n",
    "        ans = [\t1, 2, 1, 3, 3, 1, 4, 2, 4, 1, 5, 4, 4, 5, 1, 6, 3, 2, 3, 5, 1, 7, 5, 5, 5, 5, 5, 1, 8, 4, 5, 2, 5, 4, 7, 1, 9, 6, 3, 6, 6, 3, 6, 7, 1, 10, 5, 6, 4, 2, 4, 6, 5, 6, 1, 11, 7, 6, 6, 6, 6, 6, 6, 7, 6, 1, 12, 6, 4, 3, 6, 2, 6, 3, 4, 5, 7, 1, 13, 8, 7, 7, 6, 6, 6, 6, 7, 7, 6, 7, 1]\n",
    "        return ans[(n - 1) * n // 2 + m - 1]"
   ]
  },
  {
   "cell_type": "code",
   "execution_count": 2,
   "metadata": {},
   "outputs": [
    {
     "name": "stdout",
     "output_type": "stream",
     "text": "3\n"
    }
   ],
   "source": [
    "print(Solution().tilingRectangle(2, 3))"
   ]
  }
 ]
}